{
 "cells": [
  {
   "cell_type": "code",
   "execution_count": 1,
   "id": "fb11233c-d145-4f64-8999-8f48aca3e996",
   "metadata": {},
   "outputs": [
    {
     "name": "stdout",
     "output_type": "stream",
     "text": [
      "Writing app.py\n"
     ]
    }
   ],
   "source": [
    "%%writefile app.py\n",
    "from flask import Flask, render_template, request\n",
    "import pickle\n",
    "import pandas as pd\n",
    "\n",
    "app = Flask(__name__)\n",
    "\n",
    "# Load the trained model\n",
    "with open(\"rf_model.pkl\", \"rb\") as file:\n",
    "    model = pickle.load(file)\n",
    "\n",
    "@app.route(\"/\", methods=[\"GET\", \"POST\"])\n",
    "def index():\n",
    "    prediction = None\n",
    "    if request.method == \"POST\":\n",
    "        # Get user input from the form\n",
    "        features = [float(request.form[col]) for col in [\"N\", \"P\", \"K\", \"temperature\", \"humidity\", \"ph\", \"rainfall\"]]\n",
    "        \n",
    "        # Convert input to DataFrame\n",
    "        input_data = pd.DataFrame([features], columns=[\"N\", \"P\", \"K\", \"temperature\", \"humidity\", \"ph\", \"rainfall\"])\n",
    "        \n",
    "        # Make prediction\n",
    "        prediction = model.predict(input_data)[0]\n",
    "\n",
    "    return render_template(\"index.html\", prediction=prediction)\n",
    "\n",
    "if __name__ == \"__main__\":\n",
    "    app.run(debug=True)\n"
   ]
  },
  {
   "cell_type": "code",
   "execution_count": 1,
   "id": "f5a44e1b-2e0d-487e-99ba-216c985955b0",
   "metadata": {},
   "outputs": [],
   "source": [
    "import os\n",
    "os.makedirs(\"templates\", exist_ok=True)\n"
   ]
  },
  {
   "cell_type": "code",
   "execution_count": 2,
   "id": "5c9caff8-360e-426b-a2f0-5f50087daf03",
   "metadata": {},
   "outputs": [
    {
     "name": "stdout",
     "output_type": "stream",
     "text": [
      "Writing templates/index.html\n"
     ]
    }
   ],
   "source": [
    "%%writefile templates/index.html\n",
    "<!DOCTYPE html>\n",
    "<html lang=\"en\">\n",
    "<head>\n",
    "    <meta charset=\"UTF-8\">\n",
    "    <meta name=\"viewport\" content=\"width=device-width, initial-scale=1.0\">\n",
    "    <title>Soil Quality Prediction</title>\n",
    "</head>\n",
    "<body>\n",
    "    <h2>Enter Soil Data for Prediction</h2>\n",
    "    <form method=\"post\">\n",
    "        <input type=\"text\" name=\"Nitrogen\" placeholder=\"Nitrogen\" required><br><br>\n",
    "        <input type=\"text\" name=\"Phosphorus\" placeholder=\"Phosphorus\" required><br><br>\n",
    "        <input type=\"text\" name=\"Potassium\" placeholder=\"Potassium\" required><br><br>\n",
    "        <input type=\"text\" name=\"Temperature\" placeholder=\"Temperature\" required><br><br>\n",
    "        <input type=\"text\" name=\"Humidity\" placeholder=\"Humidity\" required><br><br>\n",
    "        <input type=\"text\" name=\"pH_Value\" placeholder=\"pH Level\" required><br><br>\n",
    "        <input type=\"text\" name=\"Rainfall\" placeholder=\"Rainfall\" required><br><br>\n",
    "        <button type=\"submit\">Predict</button>\n",
    "    </form>\n",
    "\n",
    "    {% if prediction is not none %}\n",
    "        <h3>Predicted Soil Quality Index: {{ prediction }}</h3>\n",
    "    {% endif %}\n",
    "</body>\n",
    "</html>\n"
   ]
  },
  {
   "cell_type": "code",
   "execution_count": 3,
   "id": "3618c2c4-68a8-4de9-ac0f-e91af4236bb1",
   "metadata": {},
   "outputs": [
    {
     "name": "stdout",
     "output_type": "stream",
     "text": [
      "['.ipynb_checkpoints', 'Crop_Recommendation.csv', 'Dataset_Exploration.ipynb', 'rf_model.pkl', 'templates', 'Untitled.ipynb']\n"
     ]
    }
   ],
   "source": [
    "import os\n",
    "print(os.listdir())\n"
   ]
  },
  {
   "cell_type": "code",
   "execution_count": 5,
   "id": "6f5a2218-70ca-4b34-ab32-f9f8a4e51c89",
   "metadata": {},
   "outputs": [
    {
     "name": "stdout",
     "output_type": "stream",
     "text": [
      "['.ipynb_checkpoints', 'app.py', 'Crop_Recommendation.csv', 'Dataset_Exploration.ipynb', 'rf_model.pkl', 'templates', 'Untitled.ipynb']\n"
     ]
    }
   ],
   "source": [
    "import os\n",
    "print(os.listdir())"
   ]
  },
  {
   "cell_type": "code",
   "execution_count": 6,
   "id": "407b5635-8214-4393-af6b-a1aa8903d4a0",
   "metadata": {},
   "outputs": [
    {
     "ename": "SyntaxError",
     "evalue": "invalid syntax (945115591.py, line 1)",
     "output_type": "error",
     "traceback": [
      "\u001b[1;36m  Cell \u001b[1;32mIn[6], line 1\u001b[1;36m\u001b[0m\n\u001b[1;33m    python app.py\u001b[0m\n\u001b[1;37m           ^\u001b[0m\n\u001b[1;31mSyntaxError\u001b[0m\u001b[1;31m:\u001b[0m invalid syntax\n"
     ]
    }
   ],
   "source": [
    "python app.py"
   ]
  },
  {
   "cell_type": "code",
   "execution_count": null,
   "id": "f7edcc3c-e0bd-4645-bc30-416054e1ca11",
   "metadata": {},
   "outputs": [],
   "source": []
  }
 ],
 "metadata": {
  "kernelspec": {
   "display_name": "Python 3 (ipykernel)",
   "language": "python",
   "name": "python3"
  },
  "language_info": {
   "codemirror_mode": {
    "name": "ipython",
    "version": 3
   },
   "file_extension": ".py",
   "mimetype": "text/x-python",
   "name": "python",
   "nbconvert_exporter": "python",
   "pygments_lexer": "ipython3",
   "version": "3.11.9"
  }
 },
 "nbformat": 4,
 "nbformat_minor": 5
}
