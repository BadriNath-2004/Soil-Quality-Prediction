{
 "cells": [
  {
   "cell_type": "code",
   "execution_count": 1,
   "id": "82ad5c7c-155e-4e0f-9370-38ec357b4ed7",
   "metadata": {},
   "outputs": [
    {
     "name": "stdout",
     "output_type": "stream",
     "text": [
      "   Nitrogen  Phosphorus  Potassium  Temperature   Humidity  pH_Value  \\\n",
      "0        90          42         43    20.879744  82.002744  6.502985   \n",
      "1        85          58         41    21.770462  80.319644  7.038096   \n",
      "2        60          55         44    23.004459  82.320763  7.840207   \n",
      "3        74          35         40    26.491096  80.158363  6.980401   \n",
      "4        78          42         42    20.130175  81.604873  7.628473   \n",
      "\n",
      "     Rainfall  Crop  \n",
      "0  202.935536  Rice  \n",
      "1  226.655537  Rice  \n",
      "2  263.964248  Rice  \n",
      "3  242.864034  Rice  \n",
      "4  262.717340  Rice  \n"
     ]
    }
   ],
   "source": [
    "import pandas as pd\n",
    "\n",
    "# Load dataset (replace with correct filename if needed)\n",
    "df = pd.read_csv(\"Crop_Recommendation.csv\")\n",
    "\n",
    "# Display first 5 rows\n",
    "print(df.head())\n"
   ]
  },
  {
   "cell_type": "code",
   "execution_count": 2,
   "id": "06d02d14-8753-4345-a335-b3719388f813",
   "metadata": {},
   "outputs": [
    {
     "name": "stdout",
     "output_type": "stream",
     "text": [
      "Missing Values:\n",
      " Nitrogen       0\n",
      "Phosphorus     0\n",
      "Potassium      0\n",
      "Temperature    0\n",
      "Humidity       0\n",
      "pH_Value       0\n",
      "Rainfall       0\n",
      "Crop           0\n",
      "dtype: int64\n"
     ]
    }
   ],
   "source": [
    "print(\"Missing Values:\\n\", df.isnull().sum())"
   ]
  },
  {
   "cell_type": "code",
   "execution_count": 3,
   "id": "55ed8bc3-0124-4013-89f1-051dc69dba59",
   "metadata": {},
   "outputs": [
    {
     "name": "stdout",
     "output_type": "stream",
     "text": [
      "Dataset Shape: (2200, 8)\n"
     ]
    }
   ],
   "source": [
    "print(\"Dataset Shape:\", df.shape)"
   ]
  },
  {
   "cell_type": "code",
   "execution_count": 4,
   "id": "f9628276-dd50-4e99-b3a5-6a17abfb871e",
   "metadata": {},
   "outputs": [
    {
     "name": "stdout",
     "output_type": "stream",
     "text": [
      "Columns: Index(['Nitrogen', 'Phosphorus', 'Potassium', 'Temperature', 'Humidity',\n",
      "       'pH_Value', 'Rainfall', 'Crop'],\n",
      "      dtype='object')\n"
     ]
    }
   ],
   "source": [
    "print(\"Columns:\", df.columns)"
   ]
  },
  {
   "cell_type": "code",
   "execution_count": 5,
   "id": "48922ad4-ed3b-4df5-9483-ed0f99a35b42",
   "metadata": {},
   "outputs": [
    {
     "name": "stdout",
     "output_type": "stream",
     "text": [
      "Data Types:\n",
      " Nitrogen         int64\n",
      "Phosphorus       int64\n",
      "Potassium        int64\n",
      "Temperature    float64\n",
      "Humidity       float64\n",
      "pH_Value       float64\n",
      "Rainfall       float64\n",
      "Crop            object\n",
      "dtype: object\n"
     ]
    }
   ],
   "source": [
    "print(\"Data Types:\\n\", df.dtypes)"
   ]
  },
  {
   "cell_type": "code",
   "execution_count": 6,
   "id": "0f440737-050e-4f6c-831b-35b944baa694",
   "metadata": {},
   "outputs": [
    {
     "name": "stdout",
     "output_type": "stream",
     "text": [
      "          Nitrogen   Phosphorus    Potassium  Temperature     Humidity  \\\n",
      "count  2200.000000  2200.000000  2200.000000  2200.000000  2200.000000   \n",
      "mean     50.551818    53.362727    48.149091    25.616244    71.481779   \n",
      "std      36.917334    32.985883    50.647931     5.063749    22.263812   \n",
      "min       0.000000     5.000000     5.000000     8.825675    14.258040   \n",
      "25%      21.000000    28.000000    20.000000    22.769375    60.261953   \n",
      "50%      37.000000    51.000000    32.000000    25.598693    80.473146   \n",
      "75%      84.250000    68.000000    49.000000    28.561654    89.948771   \n",
      "max     140.000000   145.000000   205.000000    43.675493    99.981876   \n",
      "\n",
      "          pH_Value     Rainfall  \n",
      "count  2200.000000  2200.000000  \n",
      "mean      6.469480   103.463655  \n",
      "std       0.773938    54.958389  \n",
      "min       3.504752    20.211267  \n",
      "25%       5.971693    64.551686  \n",
      "50%       6.425045    94.867624  \n",
      "75%       6.923643   124.267508  \n",
      "max       9.935091   298.560117  \n"
     ]
    }
   ],
   "source": [
    "print(df.describe())"
   ]
  },
  {
   "cell_type": "code",
   "execution_count": 8,
   "id": "68027d8e-d6cb-4529-9ec5-dec7d7b2822a",
   "metadata": {},
   "outputs": [
    {
     "name": "stdout",
     "output_type": "stream",
     "text": [
      "   Nitrogen  Phosphorus  Potassium  Temperature   Humidity  pH_Value  \\\n",
      "0        90          42         43    20.879744  82.002744  6.502985   \n",
      "1        85          58         41    21.770462  80.319644  7.038096   \n",
      "2        60          55         44    23.004459  82.320763  7.840207   \n",
      "3        74          35         40    26.491096  80.158363  6.980401   \n",
      "4        78          42         42    20.130175  81.604873  7.628473   \n",
      "\n",
      "     Rainfall  Crop        SQI  \n",
      "0  202.935536  Rice  74.981629  \n",
      "1  226.655537  Rice  73.488638  \n",
      "2  263.964248  Rice  63.552571  \n",
      "3  242.864034  Rice  66.843687  \n",
      "4  262.717340  Rice  65.455551  \n"
     ]
    }
   ],
   "source": [
    "# Define Soil Quality Index (SQI)\n",
    "def calculate_sqi(row):\n",
    "    # Compute the nutrient score as the average of N, P, and K\n",
    "    nutrient_score = (row[\"Nitrogen\"] + row[\"Phosphorus\"] + row[\"Potassium\"]) / 3  \n",
    "\n",
    "    # Compute the pH score (best if close to 6.5)\n",
    "    ph_score = max(0, 1 - abs(row[\"pH_Value\"] - 6.5) / 6.5) * 100  \n",
    "\n",
    "    # Calculate final SQI using weighted sum\n",
    "    return 0.6 * nutrient_score + 0.4 * ph_score  \n",
    "\n",
    "# Apply function to dataset\n",
    "df[\"SQI\"] = df.apply(calculate_sqi, axis=1)\n",
    "\n",
    "# Show first few rows with new SQI column\n",
    "print(df.head())\n"
   ]
  },
  {
   "cell_type": "code",
   "execution_count": 11,
   "id": "eada8acf-0c24-416c-911a-01fe4e25c3cc",
   "metadata": {},
   "outputs": [
    {
     "name": "stdout",
     "output_type": "stream",
     "text": [
      "   Nitrogen  Phosphorus  Potassium  Temperature   Humidity  pH_Value  \\\n",
      "0        90          42         43    20.879744  82.002744  6.502985   \n",
      "1        85          58         41    21.770462  80.319644  7.038096   \n",
      "2        60          55         44    23.004459  82.320763  7.840207   \n",
      "3        74          35         40    26.491096  80.158363  6.980401   \n",
      "4        78          42         42    20.130175  81.604873  7.628473   \n",
      "\n",
      "     Rainfall  Crop       SQI  \n",
      "0  202.935536  Rice  0.505170  \n",
      "1  226.655537  Rice  0.487443  \n",
      "2  263.964248  Rice  0.369468  \n",
      "3  242.864034  Rice  0.408545  \n",
      "4  262.717340  Rice  0.392063  \n"
     ]
    }
   ],
   "source": [
    "from sklearn.preprocessing import MinMaxScaler\n",
    "\n",
    "# Normalize SQI using MinMaxScaler (scales values between 0 and 1)\n",
    "scaler = MinMaxScaler()\n",
    "df[\"SQI\"] = scaler.fit_transform(df[[\"SQI\"]])\n",
    "\n",
    "# Show updated dataset\n",
    "print(df.head())\n"
   ]
  },
  {
   "cell_type": "code",
   "execution_count": 2,
   "id": "3444e8e5-ffe8-4ceb-ae60-8232a6bfd27d",
   "metadata": {},
   "outputs": [
    {
     "name": "stdout",
     "output_type": "stream",
     "text": [
      "   Nitrogen  Phosphorus  Potassium  Temperature   Humidity  pH_Value  \\\n",
      "0        90          42         43    20.879744  82.002744  6.502985   \n",
      "1        85          58         41    21.770462  80.319644  7.038096   \n",
      "2        60          55         44    23.004459  82.320763  7.840207   \n",
      "3        74          35         40    26.491096  80.158363  6.980401   \n",
      "4        78          42         42    20.130175  81.604873  7.628473   \n",
      "\n",
      "     Rainfall  Crop  \n",
      "0  202.935536  Rice  \n",
      "1  226.655537  Rice  \n",
      "2  263.964248  Rice  \n",
      "3  242.864034  Rice  \n",
      "4  262.717340  Rice  \n"
     ]
    }
   ],
   "source": [
    "import pandas as pd\n",
    "\n",
    "# Load dataset again (make sure file name is correct)\n",
    "df = pd.read_csv(\"Crop_recommendation.csv\")\n",
    "\n",
    "# Display first 5 rows to confirm it's loaded\n",
    "print(df.head())\n"
   ]
  },
  {
   "cell_type": "code",
   "execution_count": 4,
   "id": "bb87e714-d62c-4da5-b087-98f1e2304a29",
   "metadata": {},
   "outputs": [
    {
     "name": "stdout",
     "output_type": "stream",
     "text": [
      "   Nitrogen  Phosphorus  Potassium  Temperature   Humidity  pH_Value  \\\n",
      "0        90          42         43    20.879744  82.002744  6.502985   \n",
      "1        85          58         41    21.770462  80.319644  7.038096   \n",
      "2        60          55         44    23.004459  82.320763  7.840207   \n",
      "3        74          35         40    26.491096  80.158363  6.980401   \n",
      "4        78          42         42    20.130175  81.604873  7.628473   \n",
      "\n",
      "     Rainfall  Crop        SQI  \n",
      "0  202.935536  Rice  74.981629  \n",
      "1  226.655537  Rice  73.488638  \n",
      "2  263.964248  Rice  63.552571  \n",
      "3  242.864034  Rice  66.843687  \n",
      "4  262.717340  Rice  65.455551  \n"
     ]
    }
   ],
   "source": [
    "# Define Soil Quality Index (SQI)\n",
    "def calculate_sqi(row):\n",
    "    # Compute the nutrient score as the average of N, P, and K\n",
    "    nutrient_score = (row[\"Nitrogen\"] + row[\"Phosphorus\"] + row[\"Potassium\"]) / 3  \n",
    "\n",
    "    # Compute the pH score (best if close to 6.5)\n",
    "    ph_score = max(0, 1 - abs(row[\"pH_Value\"] - 6.5) / 6.5) * 100  \n",
    "\n",
    "    # Calculate final SQI using weighted sum\n",
    "    return 0.6 * nutrient_score + 0.4 * ph_score  \n",
    "\n",
    "# Apply function to dataset\n",
    "df[\"SQI\"] = df.apply(calculate_sqi, axis=1)\n",
    "\n",
    "# Show first few rows with new SQI column\n",
    "print(df.head())\n"
   ]
  },
  {
   "cell_type": "code",
   "execution_count": 5,
   "id": "8695858f-d496-4fdd-9af6-07c4266b7fa9",
   "metadata": {},
   "outputs": [
    {
     "name": "stdout",
     "output_type": "stream",
     "text": [
      "   Nitrogen  Phosphorus  Potassium  Temperature   Humidity  pH_Value  \\\n",
      "0        90          42         43    20.879744  82.002744  6.502985   \n",
      "1        85          58         41    21.770462  80.319644  7.038096   \n",
      "2        60          55         44    23.004459  82.320763  7.840207   \n",
      "3        74          35         40    26.491096  80.158363  6.980401   \n",
      "4        78          42         42    20.130175  81.604873  7.628473   \n",
      "\n",
      "     Rainfall  Crop       SQI  \n",
      "0  202.935536  Rice  0.505170  \n",
      "1  226.655537  Rice  0.487443  \n",
      "2  263.964248  Rice  0.369468  \n",
      "3  242.864034  Rice  0.408545  \n",
      "4  262.717340  Rice  0.392063  \n"
     ]
    }
   ],
   "source": [
    "from sklearn.preprocessing import MinMaxScaler\n",
    "\n",
    "# Normalize SQI using MinMaxScaler (scales values between 0 and 1)\n",
    "scaler = MinMaxScaler()\n",
    "df[\"SQI\"] = scaler.fit_transform(df[[\"SQI\"]])\n",
    "\n",
    "# Show updated dataset\n",
    "print(df.head())\n"
   ]
  },
  {
   "cell_type": "code",
   "execution_count": 6,
   "id": "835423c3-0a4a-4523-ae43-9bf85592fcc4",
   "metadata": {},
   "outputs": [
    {
     "data": {
      "image/png": "[encoded data removed]",
      "text/plain": [
       "<Figure size 640x480 with 1 Axes>"
      ]
     },
     "metadata": {},
     "output_type": "display_data"
    }
   ],
   "source": [
    "import matplotlib.pyplot as plt\n",
    "import seaborn as sns\n",
    "\n",
    "# Plot SQI distribution\n",
    "sns.histplot(df[\"SQI\"], bins=30, kde=True)\n",
    "plt.xlabel(\"Soil Quality Index (SQI)\")\n",
    "plt.ylabel(\"Frequency\")\n",
    "plt.title(\"SQI Distribution\")\n",
    "plt.show()\n"
   ]
  },
  {
   "cell_type": "code",
   "execution_count": 7,
   "id": "f61997ce-473b-4ddb-8bc8-7663666ddd09",
   "metadata": {},
   "outputs": [
    {
     "name": "stdout",
     "output_type": "stream",
     "text": [
      "Training set size: (1760, 8)\n",
      "Testing set size: (440, 8)\n"
     ]
    }
   ],
   "source": [
    "from sklearn.model_selection import train_test_split\n",
    "\n",
    "# Features (X) - All columns except SQI\n",
    "X = df.drop(columns=[\"SQI\"])\n",
    "\n",
    "# Target (y) - The SQI column (what we want to predict)\n",
    "y = df[\"SQI\"]\n",
    "\n",
    "# Split the dataset: 80% training, 20% testing\n",
    "X_train, X_test, y_train, y_test = train_test_split(X, y, test_size=0.2, random_state=42)\n",
    "\n",
    "# Print dataset sizes\n",
    "print(\"Training set size:\", X_train.shape)\n",
    "print(\"Testing set size:\", X_test.shape)\n"
   ]
  },
  {
   "cell_type": "code",
   "execution_count": 9,
   "id": "41a6b842-3922-4232-8a0b-836f7df337cf",
   "metadata": {},
   "outputs": [
    {
     "name": "stdout",
     "output_type": "stream",
     "text": [
      "Crop column removed successfully.\n"
     ]
    }
   ],
   "source": [
    "# Drop the 'Crop' column from features\n",
    "X_train = X_train.drop(columns=[\"Crop\"])\n",
    "X_test = X_test.drop(columns=[\"Crop\"])\n",
    "\n",
    "print(\"Crop column removed successfully.\")\n"
   ]
  },
  {
   "cell_type": "code",
   "execution_count": 10,
   "id": "10666a86-58e7-4570-a143-55d3e39d57e2",
   "metadata": {},
   "outputs": [
    {
     "name": "stdout",
     "output_type": "stream",
     "text": [
      "Random Forest model training complete!\n"
     ]
    }
   ],
   "source": [
    "from sklearn.ensemble import RandomForestRegressor\n",
    "\n",
    "# Initialize Random Forest model with default hyperparameters\n",
    "rf_model = RandomForestRegressor(n_estimators=100, max_depth=None, random_state=42)\n",
    "\n",
    "# Train the model using training data\n",
    "rf_model.fit(X_train, y_train)\n",
    "\n",
    "# Print model training complete message\n",
    "print(\"Random Forest model training complete!\")\n"
   ]
  },
  {
   "cell_type": "code",
   "execution_count": 11,
   "id": "bd0536dd-b863-4b80-b108-19c01ac6e8a4",
   "metadata": {},
   "outputs": [
    {
     "name": "stdout",
     "output_type": "stream",
     "text": [
      "Mean Absolute Error (MAE): 0.0121\n"
     ]
    }
   ],
   "source": [
    "from sklearn.metrics import mean_absolute_error\n",
    "\n",
    "# Make predictions on test data\n",
    "y_pred = rf_model.predict(X_test)\n",
    "\n",
    "# Calculate Mean Absolute Error (MAE)\n",
    "mae = mean_absolute_error(y_test, y_pred)\n",
    "\n",
    "print(f\"Mean Absolute Error (MAE): {mae:.4f}\")\n"
   ]
  },
  {
   "cell_type": "code",
   "execution_count": 13,
   "id": "e886f98a-cc1e-453d-8054-f72d9330c793",
   "metadata": {},
   "outputs": [],
   "source": [
    "import numpy as np\n",
    "from sklearn.ensemble import RandomForestRegressor\n",
    "from sklearn.metrics import mean_absolute_error\n"
   ]
  },
  {
   "cell_type": "code",
   "execution_count": 14,
   "id": "3a5064d5-bd4d-435f-9c4d-f14c594a97f0",
   "metadata": {},
   "outputs": [],
   "source": [
    "def evaluate_rf(n_estimators, max_depth):\n",
    "    n_estimators = int(n_estimators)\n",
    "    max_depth = int(max_depth)\n",
    "\n",
    "    # Train Random Forest\n",
    "    rf = RandomForestRegressor(n_estimators=n_estimators, max_depth=max_depth, random_state=42)\n",
    "    rf.fit(X_train, y_train)\n",
    "\n",
    "    # Predict and compute MAE\n",
    "    y_pred = rf.predict(X_test)\n",
    "    mae = mean_absolute_error(y_test, y_pred)\n",
    "\n",
    "    return mae\n"
   ]
  },
  {
   "cell_type": "code",
   "execution_count": 15,
   "id": "db6c5796-d757-4d14-bd0c-d3a4aac53ba6",
   "metadata": {},
   "outputs": [],
   "source": [
    "# Number of elephants in the population\n",
    "n_elephants = 10\n",
    "\n",
    "# Initialize elephants with random values in the given range\n",
    "elephants = np.array([[np.random.randint(50, 200), np.random.randint(5, 30)] for _ in range(n_elephants)])\n"
   ]
  },
  {
   "cell_type": "code",
   "execution_count": 16,
   "id": "32f5442c-8598-490d-9479-78c26dd62705",
   "metadata": {},
   "outputs": [
    {
     "name": "stdout",
     "output_type": "stream",
     "text": [
      "Best Hyperparameters: n_estimators=114, max_depth=22\n",
      "Best MAE after EHO: 0.0119\n"
     ]
    }
   ],
   "source": [
    "num_iterations = 20  # Number of iterations\n",
    "\n",
    "for iteration in range(num_iterations):\n",
    "    print(f\"Iteration {iteration + 1}/{num_iterations}...\")  # Show progress\n",
    "    \n",
    "    # Evaluate all elephants\n",
    "    fitness = [evaluate_rf(e[0], e[1]) for e in elephants]\n",
    "\n",
    "    # Find the best elephant (lowest MAE)\n",
    "    best_idx = np.argmin(fitness)\n",
    "    best_elephant = elephants[best_idx]\n",
    "\n",
    "    # Move other elephants toward the best one (update positions)\n",
    "    for i in range(n_elephants):\n",
    "        if i != best_idx:\n",
    "            elephants[i] = 0.7 * elephants[i] + 0.3 * best_elephant  # Move towards best\n",
    "            elephants[i] = np.clip(elephants[i], [50, 5], [200, 30])  # Keep values in range\n",
    "\n",
    "print(\"Optimization complete!\")\n",
    "\n",
    "# Get final best hyperparameters\n",
    "best_n_estimators, best_max_depth = elephants[best_idx]\n",
    "best_mae = evaluate_rf(best_n_estimators, best_max_depth)\n",
    "\n",
    "print(f\"Best Hyperparameters: n_estimators={int(best_n_estimators)}, max_depth={int(best_max_depth)}\")\n",
    "print(f\"Best MAE after EHO: {best_mae:.4f}\")\n"
   ]
  },
  {
   "cell_type": "code",
   "execution_count": 17,
   "id": "9a32e1e8-5482-4d68-84a8-f9ea19635346",
   "metadata": {},
   "outputs": [
    {
     "name": "stdout",
     "output_type": "stream",
     "text": [
      "Final MAE on Test Data: 0.0119\n"
     ]
    }
   ],
   "source": [
    "# Train Random Forest with best hyperparameters\n",
    "rf_final = RandomForestRegressor(n_estimators=int(best_n_estimators), max_depth=int(best_max_depth), random_state=42)\n",
    "rf_final.fit(X_train, y_train)\n",
    "\n",
    "# Predict on test data\n",
    "y_pred_final = rf_final.predict(X_test)\n",
    "\n",
    "# Calculate final MAE\n",
    "final_mae = mean_absolute_error(y_test, y_pred_final)\n",
    "\n",
    "print(f\"Final MAE on Test Data: {final_mae:.4f}\")\n"
   ]
  },
  {
   "cell_type": "code",
   "execution_count": 18,
   "id": "f1f7c4cd-1820-4004-b35a-3ab29127613e",
   "metadata": {},
   "outputs": [
    {
     "name": "stdout",
     "output_type": "stream",
     "text": [
      "Model saved successfully!\n"
     ]
    }
   ],
   "source": [
    "import pickle\n",
    "\n",
    "# Save the trained model to a file\n",
    "with open(\"rf_model.pkl\", \"wb\") as file:\n",
    "    pickle.dump(rf_final, file)\n",
    "\n",
    "print(\"Model saved successfully!\")\n"
   ]
  },
  {
   "cell_type": "code",
   "execution_count": 19,
   "id": "f57a8c94-cf8b-4e95-a983-2c1acaf93987",
   "metadata": {},
   "outputs": [
    {
     "name": "stdout",
     "output_type": "stream",
     "text": [
      "Sample Prediction: 0.46775583079063837\n"
     ]
    },
    {
     "name": "stderr",
     "output_type": "stream",
     "text": [
      "C:\\Users\\avuku\\AppData\\Local\\Packages\\PythonSoftwareFoundation.Python.3.11_qbz5n2kfra8p0\\LocalCache\\local-packages\\Python311\\site-packages\\sklearn\\utils\\validation.py:2739: UserWarning: X does not have valid feature names, but RandomForestRegressor was fitted with feature names\n",
      "  warnings.warn(\n"
     ]
    }
   ],
   "source": [
    "# Load the saved model\n",
    "with open(\"rf_model.pkl\", \"rb\") as file:\n",
    "    loaded_model = pickle.load(file)\n",
    "\n",
    "# Test the loaded model\n",
    "sample_prediction = loaded_model.predict([X_test.iloc[0]])\n",
    "print(f\"Sample Prediction: {sample_prediction[0]}\")\n"
   ]
  },
  {
   "cell_type": "code",
   "execution_count": 20,
   "id": "6bbe8bec-96a6-4d61-988e-e3a3f7038f8f",
   "metadata": {},
   "outputs": [
    {
     "name": "stdout",
     "output_type": "stream",
     "text": [
      "Sample Prediction: 0.46775583079063837\n"
     ]
    }
   ],
   "source": [
    "import pandas as pd\n",
    "\n",
    "# Convert sample input to DataFrame with correct feature names\n",
    "sample_input = pd.DataFrame([X_test.iloc[0]], columns=X_test.columns)\n",
    "\n",
    "# Predict using the loaded model\n",
    "sample_prediction = loaded_model.predict(sample_input)\n",
    "print(f\"Sample Prediction: {sample_prediction[0]}\")\n"
   ]
  },
  {
   "cell_type": "code",
   "execution_count": 21,
   "id": "d5f6a310-308b-4d0b-9e95-0c03aee2599d",
   "metadata": {},
   "outputs": [
    {
     "name": "stdout",
     "output_type": "stream",
     "text": [
      "Requirement already satisfied: flask in c:\\users\\avuku\\appdata\\local\\packages\\pythonsoftwarefoundation.python.3.11_qbz5n2kfra8p0\\localcache\\local-packages\\python311\\site-packages (3.1.0)\n",
      "Requirement already satisfied: Werkzeug>=3.1 in c:\\users\\avuku\\appdata\\local\\packages\\pythonsoftwarefoundation.python.3.11_qbz5n2kfra8p0\\localcache\\local-packages\\python311\\site-packages (from flask) (3.1.3)\n",
      "Requirement already satisfied: Jinja2>=3.1.2 in c:\\users\\avuku\\appdata\\local\\packages\\pythonsoftwarefoundation.python.3.11_qbz5n2kfra8p0\\localcache\\local-packages\\python311\\site-packages (from flask) (3.1.5)\n",
      "Requirement already satisfied: itsdangerous>=2.2 in c:\\users\\avuku\\appdata\\local\\packages\\pythonsoftwarefoundation.python.3.11_qbz5n2kfra8p0\\localcache\\local-packages\\python311\\site-packages (from flask) (2.2.0)\n",
      "Requirement already satisfied: click>=8.1.3 in c:\\users\\avuku\\appdata\\local\\packages\\pythonsoftwarefoundation.python.3.11_qbz5n2kfra8p0\\localcache\\local-packages\\python311\\site-packages (from flask) (8.1.8)\n",
      "Requirement already satisfied: blinker>=1.9 in c:\\users\\avuku\\appdata\\local\\packages\\pythonsoftwarefoundation.python.3.11_qbz5n2kfra8p0\\localcache\\local-packages\\python311\\site-packages (from flask) (1.9.0)\n",
      "Requirement already satisfied: colorama in c:\\users\\avuku\\appdata\\local\\packages\\pythonsoftwarefoundation.python.3.11_qbz5n2kfra8p0\\localcache\\local-packages\\python311\\site-packages (from click>=8.1.3->flask) (0.4.6)\n",
      "Requirement already satisfied: MarkupSafe>=2.0 in c:\\users\\avuku\\appdata\\local\\packages\\pythonsoftwarefoundation.python.3.11_qbz5n2kfra8p0\\localcache\\local-packages\\python311\\site-packages (from Jinja2>=3.1.2->flask) (3.0.2)\n"
     ]
    }
   ],
   "source": [
    "!pip install flask"
   ]
  },
  {
   "cell_type": "code",
   "execution_count": null,
   "id": "75d5ebf2-53ca-4145-bc2b-5e0109c5a5d2",
   "metadata": {},
   "outputs": [],
   "source": []
  }
 ],
 "metadata": {
  "kernelspec": {
   "display_name": "Python 3 (ipykernel)",
   "language": "python",
   "name": "python3"
  },
  "language_info": {
   "codemirror_mode": {
    "name": "ipython",
    "version": 3
   },
   "file_extension": ".py",
   "mimetype": "text/x-python",
   "name": "python",
   "nbconvert_exporter": "python",
   "pygments_lexer": "ipython3",
   "version": "3.11.9"
  }
 },
 "nbformat": 4,
 "nbformat_minor": 5
}
